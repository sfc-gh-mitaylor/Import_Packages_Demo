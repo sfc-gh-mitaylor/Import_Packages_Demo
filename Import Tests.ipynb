{
 "cells": [
  {
   "cell_type": "code",
   "execution_count": 1,
   "id": "26c2eb80-de7b-469a-9017-a04745c88ff7",
   "metadata": {},
   "outputs": [],
   "source": [
    "from snowflake.snowpark.session import Session\n",
    "from snowflake.snowpark.functions import sproc\n",
    "import snowflake.snowpark.functions as F\n",
    "from snowflake.snowpark.types import Variant\n",
    "import json"
   ]
  },
  {
   "cell_type": "markdown",
   "id": "31f78347-a53f-40cb-be2a-f0b949a1334f",
   "metadata": {},
   "source": [
    "# 0. Getting Started\n",
    "\n",
    "Connect to Snowflake, in this case I'm using a creds.json file, it should look like the json I've included in the folder\n",
    "\n",
    "Note I've commented out the CREATE OR REPLACE DATABASE and STAGE bits and used USE instead, as once I've dragged and dropped the .py file in it wasn't necessary to recreate them every time of course."
   ]
  },
  {
   "cell_type": "code",
   "execution_count": 2,
   "id": "9d5893cc-6ae2-4269-a83c-b098430607e2",
   "metadata": {},
   "outputs": [
    {
     "data": {
      "text/plain": [
       "[Row(status='Statement executed successfully.')]"
      ]
     },
     "execution_count": 2,
     "metadata": {},
     "output_type": "execute_result"
    }
   ],
   "source": [
    "snowflake_connection_cfg = json.loads(open(\"/Users/mitaylor/Documents/creds/creds.json\").read())\n",
    "session = Session.builder.configs(snowflake_connection_cfg).create()\n",
    "session.sql(\"CREATE OR REPLACE WAREHOUSE EQT_VWH WITH WAREHOUSE_SIZE='X-SMALL'\").collect()\n",
    "#session.sql(\"CREATE OR REPLACE DATABASE EQT_DB\").collect()\n",
    "#session.sql(\"CREATE OR REPLACE STAGE PACKAGE_STAGE\").collect()\n",
    "session.sql(\"USE DATABASE EQT_DB\").collect()"
   ]
  },
  {
   "cell_type": "markdown",
   "id": "9bfe29fa-e977-4085-ba60-d88c8012bf28",
   "metadata": {},
   "source": [
    "# 1. Pull From a Python File"
   ]
  },
  {
   "cell_type": "markdown",
   "id": "85eca010-c0ab-4d76-a45c-5b8fbe683739",
   "metadata": {},
   "source": [
    "I thought that this should work, and while I've done it in a slightly different way, this does work, so option 1. as follows:\n",
    "\n",
    "First, follow these steps to get access to that file:\n",
    "\n",
    "1. Log in to the Snowflake GUI\n",
    "2. Look on the left hand side, click Data, then Databases in the drop down, then click on your DB (in this example EQT_DB) in the sheet on the right\n",
    "3. Then Click on PUBLIC, then STAGES, then PACKAGE STAGE (in this example)\n",
    "4. Then + Files at the top right, it should be a drag and drop from there\n",
    "\n",
    "*Note there is an automated way to do all this with SnowCLI too which is probably a better bet long term, esp. given DBT, but this is a good way to get you up and running*\n",
    "\n",
    "5. Finally, run the SPROC below, which is a python function, that is then registered as a sproc, then called right at the bottom"
   ]
  },
  {
   "cell_type": "code",
   "execution_count": 3,
   "id": "aefafa58-7bfa-4fc5-b14d-fb540f72a38c",
   "metadata": {},
   "outputs": [
    {
     "data": {
      "text/plain": [
       "'\"hello world\"'"
      ]
     },
     "execution_count": 3,
     "metadata": {},
     "output_type": "execute_result"
    }
   ],
   "source": [
    "# Define sproc to test that the import was successful\n",
    "def py_file_sproc(session: Session) -> Variant:\n",
    "    import hello_world_file\n",
    "    return hello_world_file.test_hello_world()\n",
    "\n",
    "# Register sproc\n",
    "py_file_sproc = session.sproc.register(\n",
    "                              func=py_file_sproc, \n",
    "                              name='PY_FILE_SPROC', \n",
    "                              is_permanent=True, \n",
    "                              replace=True,\n",
    "                              stage_location='@PACKAGE_STAGE', \n",
    "                              packages=['snowflake-snowpark-python'],\n",
    "                              imports=[\"@PACKAGE_STAGE/hello_world_file.py\"])\n",
    "# Call sproc\n",
    "py_file_sproc()"
   ]
  },
  {
   "cell_type": "markdown",
   "id": "a623a3c5-740f-4b50-b609-f622ee9bf5a4",
   "metadata": {},
   "source": [
    "# 2. Pull From \"Local\" Machine"
   ]
  },
  {
   "cell_type": "markdown",
   "id": "a188adcd-0df5-4654-8190-0775fd71c31a",
   "metadata": {},
   "source": [
    "Next, the quick and dirty especially for those scenarios where something isn't in our conda channel (https://repo.anaconda.com/pkgs/snowflake/), but is out there in the wild.  Note this only works for pure python packages (so things with weird and wonderful API calls to C++/FORTRAN/SOMETHING_ELSE_ANCIENT libraries etc. won't work.  They can but they need extra dev ourside, so if you need it, lobby us)\n",
    "\n",
    "Basically, just run the cells below"
   ]
  },
  {
   "cell_type": "code",
   "execution_count": 8,
   "id": "ea4d3672-b756-449d-80f1-2e42916ea605",
   "metadata": {},
   "outputs": [
    {
     "data": {
      "text/plain": [
       "'hello world'"
      ]
     },
     "execution_count": 8,
     "metadata": {},
     "output_type": "execute_result"
    }
   ],
   "source": [
    "# just to show it works the same local as in Snowflake\n",
    "import hello_world_pkg\n",
    "hello_world_pkg.hello_world.test_hello_world_pkg()"
   ]
  },
  {
   "cell_type": "code",
   "execution_count": 9,
   "id": "c2f38b40-6d98-4ab6-85b9-65f133cdb6c8",
   "metadata": {},
   "outputs": [],
   "source": [
    "# Get your package path\n",
    "import hello_world_pkg\n",
    "hello_world_pkg_path = hello_world_pkg.__path__[0]"
   ]
  },
  {
   "cell_type": "code",
   "execution_count": 11,
   "id": "b770334c-9695-4acf-a424-19eb8ad10cc2",
   "metadata": {},
   "outputs": [
    {
     "data": {
      "text/plain": [
       "'\"hello world\"'"
      ]
     },
     "execution_count": 11,
     "metadata": {},
     "output_type": "execute_result"
    }
   ],
   "source": [
    "# Define sproc to test that the import was successful\n",
    "def py_local_pkg_sproc(session: Session) -> Variant:\n",
    "    import hello_world_pkg\n",
    "    return(hello_world_pkg.hello_world.test_hello_world_pkg())\n",
    "\n",
    "# Register sproc\n",
    "py_local_pkg_sproc = session.sproc.register(\n",
    "                              func=py_local_pkg_sproc, \n",
    "                              name='PY_LOC_PKG_SPROC', \n",
    "                              is_permanent=True, \n",
    "                              replace=True,\n",
    "                              stage_location='@PACKAGE_STAGE', \n",
    "                              packages=['snowflake-snowpark-python'], \n",
    "                              imports=[hello_world_pkg_path])\n",
    "# Call sproc\n",
    "py_local_pkg_sproc()"
   ]
  },
  {
   "cell_type": "markdown",
   "id": "08b50bf8-096a-4230-84bb-65708f77166f",
   "metadata": {},
   "source": [
    "# 3. Using a .WHL File "
   ]
  },
  {
   "cell_type": "markdown",
   "id": "7c949f2e-2f4d-49b6-8a08-9b49f5d40193",
   "metadata": {},
   "source": [
    "Most packages you find online should be well created, but in the event they aren't create a setup file like I have in this root directory and you can create a .whl file yourself (or you can go to PyPi etc. and grab it if it's there\n",
    "\n",
    "Navigate to the folder with setup.py in, then run this from the command line\n",
    "\n",
    "python3 setup.py bdist_wheel\n",
    "\n",
    "This will create a .whl file inside a dist folder (should be called \"hello_world_pkg-1.0-py3-none-any.whl\").  Just like in part 1. copy that into your stage, together with the \"wheel_loader.py\" file."
   ]
  },
  {
   "cell_type": "code",
   "execution_count": 13,
   "id": "e396bb6d-9935-4c17-982a-973803126665",
   "metadata": {},
   "outputs": [
    {
     "data": {
      "text/plain": [
       "'\"hello world\"'"
      ]
     },
     "execution_count": 13,
     "metadata": {},
     "output_type": "execute_result"
    }
   ],
   "source": [
    "# Define sproc to test that the import was successful\n",
    "def py_whl_pkg_sproc(session: Session) -> Variant:\n",
    "    import wheel_loader\n",
    "    wheel_loader.load('hello_world_pkg-1.0-py3-none-any.whl')\n",
    "    import hello_world_pkg \n",
    "    return(hello_world_pkg.hello_world.test_hello_world_pkg())\n",
    "\n",
    "# Register sproc\n",
    "py_whl_pkg_sproc = session.sproc.register(\n",
    "                              func=py_whl_pkg_sproc, \n",
    "                              name='PY_WHL_PKG_SPROC', \n",
    "                              is_permanent=True, \n",
    "                              replace=True,\n",
    "                              stage_location='@PACKAGE_STAGE', \n",
    "                              packages=['snowflake-snowpark-python'],\n",
    "                              imports=[\"@PACKAGE_STAGE/wheel_loader.py\",\n",
    "                                       \"@PACKAGE_STAGE/hello_world_pkg-1.0-py3-none-any.whl\"])\n",
    "# Call sproc\n",
    "py_whl_pkg_sproc()"
   ]
  },
  {
   "cell_type": "code",
   "execution_count": null,
   "id": "c2d2d41d-aa49-4a86-9b80-17e456712bb7",
   "metadata": {},
   "outputs": [],
   "source": []
  }
 ],
 "metadata": {
  "kernelspec": {
   "display_name": "Python 3 (ipykernel)",
   "language": "python",
   "name": "python3"
  },
  "language_info": {
   "codemirror_mode": {
    "name": "ipython",
    "version": 3
   },
   "file_extension": ".py",
   "mimetype": "text/x-python",
   "name": "python",
   "nbconvert_exporter": "python",
   "pygments_lexer": "ipython3",
   "version": "3.9.19"
  }
 },
 "nbformat": 4,
 "nbformat_minor": 5
}
